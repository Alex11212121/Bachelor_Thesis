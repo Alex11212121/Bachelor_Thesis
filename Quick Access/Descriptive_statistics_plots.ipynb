{
 "cells": [
  {
   "cell_type": "code",
   "execution_count": 1,
   "metadata": {
    "collapsed": false
   },
   "outputs": [
    {
     "ename": "SyntaxError",
     "evalue": "invalid syntax (2777072602.py, line 34)",
     "output_type": "error",
     "traceback": [
      "\u001b[0;36m  File \u001b[0;32m\"/tmp/ipykernel_1109/2777072602.py\"\u001b[0;36m, line \u001b[0;32m34\u001b[0m\n\u001b[0;31m    ```\u001b[0m\n\u001b[0m    ^\u001b[0m\n\u001b[0;31mSyntaxError\u001b[0m\u001b[0;31m:\u001b[0m invalid syntax\n"
     ]
    }
   ],
   "source": [
    "import csv\n",
    "import pandas as pd\n",
    "import sklearn as sk\n",
    "import statsmodels.api as sm\n",
    "import statsmodels.formula.api as smf\n",
    "import numpy as np\n",
    "import statsmodels.graphics.api as smg\n",
    "import plotly.express as px\n",
    "import folium\n",
    "from folium import plugins\n",
    "import plotly.io as pio\n",
    "from IPython.display import Image\n",
    "\n",
    "#To view other variables use other variable names. (a_surface_living - age - a_sicht - a_balkon - region - a_zip_2 - a_nb_rooms)\n",
    "fig = px.histogram(df, x=\"a_netm_mon\", marginal=\"box\") \n",
    "\n",
    "# Dimensions\n",
    "width_inches = 8.01\n",
    "height_inches = 5\n",
    "\n",
    "#Annotations\n",
    "fig.update_layout(\n",
    "    legend=dict(font=dict(size=16)),\n",
    "    title=dict(text=\"Distribution of Rent\", font=dict(size=20)),\n",
    "    xaxis=dict(title=dict(text=\"Rent\", font=dict(size=16))),\n",
    "    yaxis=dict(title=dict(text=\"Count\", font=dict(size=16))),\n",
    ")\n",
    "\n",
    "# DPI for printing\n",
    "dpi = 300\n",
    "\n",
    "#To view interactive plot in JupyterNotebook\n",
    "fig.show()\n",
    "```"
   ]
  },
  {
   "cell_type": "code",
   "execution_count": 0,
   "metadata": {
    "collapsed": false
   },
   "outputs": [
   ],
   "source": [
   ]
  }
 ],
 "metadata": {
  "kernelspec": {
   "display_name": "Python 3 (system-wide)",
   "env": {
   },
   "language": "python",
   "metadata": {
    "cocalc": {
     "description": "Python 3 programming language",
     "priority": 100,
     "url": "https://www.python.org/"
    }
   },
   "name": "python3",
   "resource_dir": "/ext/jupyter/kernels/python3"
  },
  "language_info": {
   "codemirror_mode": {
    "name": "ipython",
    "version": 3
   },
   "file_extension": ".py",
   "mimetype": "text/x-python",
   "name": "python",
   "nbconvert_exporter": "python",
   "pygments_lexer": "ipython3",
   "version": "3.8.10"
  }
 },
 "nbformat": 4,
 "nbformat_minor": 4
}